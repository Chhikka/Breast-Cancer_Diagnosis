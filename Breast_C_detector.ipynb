{
 "cells": [
  {
   "cell_type": "markdown",
   "metadata": {},
   "source": [
    "Breast Cancer detection\n",
    "\n",
    "In simple terms, breast cancer occurs when cells in the breast replicate uncontrollably. The cells usually form a tumor/breast mass. This palpable malignant breast masses are distinguishable from benign masses by differences in cytological features. Note that a benign tumor will not invade surrounding tissues while a malignan tumor would invade, then spread locally and to distant sites in the body via the bloodstream and the lymphatic system. \n",
    "\n",
    "Whenever suspicions of breast cancers occur, diagnostic modalities such as MRI, Ultrasound, mammogram and different types of biopsies are used for diagnosis. In this analysis I atempt to train a machine learning model to predict this diagnosis from the Wisconsin breast cancer dataset.\n",
    "\n",
    "\n",
    "\n",
    "\n"
   ]
  },
  {
   "cell_type": "markdown",
   "metadata": {},
   "source": [
    "Understanding the Data"
   ]
  }
 ],
 "metadata": {
  "interpreter": {
   "hash": "aee8b7b246df8f9039afb4144a1f6fd8d2ca17a180786b69acc140d282b71a49"
  },
  "kernelspec": {
   "display_name": "Python 3.10.4 64-bit",
   "language": "python",
   "name": "python3"
  },
  "language_info": {
   "name": "python",
   "version": "3.10.4"
  },
  "orig_nbformat": 4
 },
 "nbformat": 4,
 "nbformat_minor": 2
}
