{
 "cells": [
  {
   "cell_type": "markdown",
   "metadata": {},
   "source": [
    "Breast Cancer detection\n",
    "\n",
    "In simple terms, breast cancer occurs when cells in the breast replicate uncontrollably. The cells usually form a tumor/breast mass. This palpable malignant breast masses are distinguishable from benign masses by differences in cytological features. Note that a benign tumor will not invade surrounding tissues while a malignant tumor would invade, then spread locally and to distant sites in the body via the bloodstream and the lymphatic system. \n",
    "\n",
    "Whenever suspicions of breast cancers occur, diagnostic modalities such as MRI, Ultrasound, mammogram and different types of biopsies are used for diagnosis. In this analysis I attempt to train a machine learning model to predict this diagnosis from the Wisconsin breast cancer dataset."
   ]
  },
  {
   "cell_type": "code",
   "execution_count": null,
   "metadata": {},
   "outputs": [],
   "source": [
    "import pandas as pd\n",
    "import numpy as np\n",
    "dataset = pd.read_csv"
   ]
  },
  {
   "cell_type": "markdown",
   "metadata": {},
   "source": [
    "This dataset was created by Dr William H. Wolberg, a Physician at the university of Wisconsin, Hospital at Madison. Using fine needle aspiration biopsy, fluid samples obtained from breast cancer patients were digitized using . The imported dataset above describes the cytological feature of a cell nuclei from the sample.\n"
   ]
  },
  {
   "cell_type": "code",
   "execution_count": null,
   "metadata": {},
   "outputs": [],
   "source": [
    " "
   ]
  }
 ],
 "metadata": {
  "interpreter": {
   "hash": "aee8b7b246df8f9039afb4144a1f6fd8d2ca17a180786b69acc140d282b71a49"
  },
  "kernelspec": {
   "display_name": "Python 3.10.4 64-bit",
   "language": "python",
   "name": "python3"
  },
  "language_info": {
   "codemirror_mode": {
    "name": "ipython",
    "version": 3
   },
   "file_extension": ".py",
   "mimetype": "text/x-python",
   "name": "python",
   "nbconvert_exporter": "python",
   "pygments_lexer": "ipython3",
   "version": "3.10.4"
  },
  "orig_nbformat": 4
 },
 "nbformat": 4,
 "nbformat_minor": 2
}
